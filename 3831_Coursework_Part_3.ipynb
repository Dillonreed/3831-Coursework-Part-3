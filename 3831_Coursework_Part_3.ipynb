{
  "nbformat": 4,
  "nbformat_minor": 0,
  "metadata": {
    "colab": {
      "provenance": [],
      "toc_visible": true,
      "authorship_tag": "ABX9TyOVvlVkGFJ/mZNT+ZLO+J6E",
      "include_colab_link": true
    },
    "kernelspec": {
      "name": "python3",
      "display_name": "Python 3"
    },
    "language_info": {
      "name": "python"
    }
  },
  "cells": [
    {
      "cell_type": "markdown",
      "metadata": {
        "id": "view-in-github",
        "colab_type": "text"
      },
      "source": [
        "<a href=\"https://colab.research.google.com/github/Dillonreed/3831-Coursework-Part-3/blob/main/3831_Coursework_Part_3.ipynb\" target=\"_parent\"><img src=\"https://colab.research.google.com/assets/colab-badge.svg\" alt=\"Open In Colab\"/></a>"
      ]
    },
    {
      "cell_type": "markdown",
      "source": [
        "# 3831 Coursework Part 3"
      ],
      "metadata": {
        "id": "JuLi9lhhsgse"
      }
    },
    {
      "cell_type": "markdown",
      "source": [
        "## Imports"
      ],
      "metadata": {
        "id": "SVpxjah00Qu7"
      }
    },
    {
      "cell_type": "markdown",
      "source": [
        "## Reading Images In"
      ],
      "metadata": {
        "id": "hg8HC_2U0SEV"
      }
    },
    {
      "cell_type": "markdown",
      "source": [
        "## My Denoising Algorithm"
      ],
      "metadata": {
        "id": "FUPp5UZ40T1W"
      }
    },
    {
      "cell_type": "markdown",
      "source": [
        "## Comparing with Other Prominent Denoising Methods"
      ],
      "metadata": {
        "id": "3Qqmo7tF0cLQ"
      }
    },
    {
      "cell_type": "markdown",
      "source": [
        "### Mean Filter"
      ],
      "metadata": {
        "id": "cAdUTiw80lOt"
      }
    },
    {
      "cell_type": "markdown",
      "source": [
        "### Median Filter"
      ],
      "metadata": {
        "id": "2yKwlC-U0m49"
      }
    },
    {
      "cell_type": "markdown",
      "source": [
        "### Wavelet Denoising"
      ],
      "metadata": {
        "id": "1uHYfdI50qqx"
      }
    },
    {
      "cell_type": "markdown",
      "source": [
        "## Comparing Original and Denoised images"
      ],
      "metadata": {
        "id": "-hHhQO3e0vaT"
      }
    },
    {
      "cell_type": "markdown",
      "source": [
        "## Generating Results from Dataset"
      ],
      "metadata": {
        "id": "_sbUbQIO03N1"
      }
    },
    {
      "cell_type": "code",
      "execution_count": null,
      "metadata": {
        "id": "rpGQ3irmaV_-"
      },
      "outputs": [],
      "source": []
    }
  ]
}